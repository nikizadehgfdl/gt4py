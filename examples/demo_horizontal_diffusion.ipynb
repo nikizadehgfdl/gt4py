{
 "cells": [
  {
   "cell_type": "markdown",
   "metadata": {},
   "source": [
    "GT4Py - GridTools for Python\n",
    "\n",
    "Copyright (c) 2014-2022, ETH Zurich\n",
    "All rights reserved.\n",
    "\n",
    "This file is part the GT4Py project and the GridTools framework.\n",
    "GT4Py is free software: you can redistribute it and/or modify it under\n",
    "the terms of the GNU General Public License as published by the\n",
    "Free Software Foundation, either version 3 of the License, or any later\n",
    "version. See the LICENSE.txt file at the top-level directory of this\n",
    "distribution for a copy of the license or check <https://www.gnu.org/licenses/>.\n",
    "\n",
    "SPDX-License-Identifier: GPL-3.0-or-later\n",
    "\n",
    "To run this notebook on gpubox\n",
    "```\n",
    "source platforms/mom6/builds/lscgpu50/gnu11.env;export MPICC=$(which mpicc);export BOOST_ROOT=/home/Niki.Zadeh/BOOST/ROOT/boost_1_79_0; export CUDA_VISIBLE_DEVICES=0,1;conda activate gt4pyenv; jupyter notebook --no-browser\n",
    "```"
   ]
  },
  {
   "cell_type": "markdown",
   "metadata": {},
   "source": [
    "## Horizontal Diffusion Example"
   ]
  },
  {
   "cell_type": "markdown",
   "metadata": {},
   "source": [
    "### Imports and utilities"
   ]
  },
  {
   "cell_type": "code",
   "execution_count": 1,
   "metadata": {},
   "outputs": [],
   "source": [
    "import numpy as np\n",
    "import matplotlib.pyplot as plt\n",
    "\n",
    "import gt4py.storage\n",
    "import gt4py.gtscript as gtscript"
   ]
  },
  {
   "cell_type": "markdown",
   "metadata": {},
   "source": [
    "### Global definitions"
   ]
  },
  {
   "cell_type": "code",
   "execution_count": 2,
   "metadata": {},
   "outputs": [],
   "source": [
    "backend = \"gt:gpu\"  # options: \"numpy\", \"gt:cpu_ifirst\", \"gt:cpu_kfirst\", \"gt:gpu\", \"dace:cpu\", \"dace:gpu\"\n",
    "dtype = np.float64"
   ]
  },
  {
   "cell_type": "markdown",
   "metadata": {},
   "source": [
    "### Define GTScript stencil"
   ]
  },
  {
   "cell_type": "code",
   "execution_count": 3,
   "metadata": {
    "scrolled": false
   },
   "outputs": [],
   "source": [
    "\n",
    "@gtscript.stencil(backend) # this decorator triggers compilation of the stencil\n",
    "def horizontal_diffusion(\n",
    "    in_field: gtscript.Field[dtype],\n",
    "    out_field: gtscript.Field[dtype],\n",
    "    coeff: gtscript.Field[dtype],\n",
    "):\n",
    "    with computation(PARALLEL), interval(...):\n",
    "        lap_field = 4.0 * in_field[0, 0, 0] - (\n",
    "            in_field[1, 0, 0] + in_field[-1, 0, 0] + in_field[0, 1, 0] + in_field[0, -1, 0]\n",
    "        )\n",
    "        res = lap_field[1, 0, 0] - lap_field[0, 0, 0]\n",
    "        flx_field = 0 if (res * (in_field[1, 0, 0] - in_field[0, 0, 0])) > 0 else res\n",
    "        res = lap_field[0, 1, 0] - lap_field[0, 0, 0]\n",
    "        fly_field = 0 if (res * (in_field[0, 1, 0] - in_field[0, 0, 0])) > 0 else res\n",
    "        out_field = in_field[0, 0, 0] - coeff[0, 0, 0] * (\n",
    "            flx_field[0, 0, 0] - flx_field[-1, 0, 0] + fly_field[0, 0, 0] - fly_field[0, -1, 0]\n",
    "        )\n"
   ]
  },
  {
   "cell_type": "markdown",
   "metadata": {},
   "source": [
    "### Initialize Fields"
   ]
  },
  {
   "cell_type": "code",
   "execution_count": 4,
   "metadata": {},
   "outputs": [
    {
     "data": {
      "text/plain": [
       "<matplotlib.image.AxesImage at 0x7f4fb5ef1490>"
      ]
     },
     "execution_count": 4,
     "metadata": {},
     "output_type": "execute_result"
    },
    {
     "data": {
      "image/png": "[encoded data removed]",
      "text/plain": [
       "<Figure size 640x480 with 1 Axes>"
      ]
     },
     "metadata": {},
     "output_type": "display_data"
    }
   ],
   "source": [
    "# Initialize example data\n",
    "N = 30\n",
    "shape = (N, N, N)\n",
    "origin = (2, 2, 0)\n",
    "\n",
    "indices = np.arange(N)\n",
    "ii = np.zeros((N, N, N)) + np.reshape(indices, (N, 1, 1))\n",
    "jj = np.zeros((N, N, N)) + np.reshape(indices, (1, N, 1))\n",
    "kk = np.zeros((N, N, N)) + np.reshape(indices, (1, 1, N))\n",
    "\n",
    "xx = ii / N\n",
    "yy = jj / N\n",
    "zz = kk / N\n",
    "\n",
    "in_data = 5. + 8. * (2. + np.cos(np.pi * (xx + 1.5 * yy)) + np.sin(2 * np.pi * (xx + 1.5 * yy))) / 4.\n",
    "out_data = np.zeros(shape)\n",
    "coeff_data = 0.025 * np.ones(shape)\n",
    "\n",
    "# Plot initialization\n",
    "projection = np.array(np.sum(in_data, axis=2))\n",
    "plt.imshow(projection)\n"
   ]
  },
  {
   "cell_type": "markdown",
   "metadata": {},
   "source": [
    "### Copy input data from numpy arrays to gt4py storages\n"
   ]
  },
  {
   "cell_type": "code",
   "execution_count": 5,
   "metadata": {},
   "outputs": [],
   "source": [
    "in_storage = gt4py.storage.from_array(\n",
    "    in_data, dtype, backend=backend, aligned_index=origin\n",
    ")\n",
    "out_storage = gt4py.storage.from_array(\n",
    "    out_data, dtype, backend=backend, aligned_index=origin\n",
    ")\n",
    "coeff_storage = gt4py.storage.from_array(\n",
    "    coeff_data, dtype, backend=backend, aligned_index=origin\n",
    ")"
   ]
  },
  {
   "cell_type": "markdown",
   "metadata": {},
   "source": [
    "### Run computation"
   ]
  },
  {
   "cell_type": "code",
   "execution_count": 6,
   "metadata": {},
   "outputs": [],
   "source": [
    "horizontal_diffusion(in_storage, out_storage, coeff_storage, origin=origin)"
   ]
  },
  {
   "cell_type": "code",
   "execution_count": 7,
   "metadata": {},
   "outputs": [
    {
     "name": "stdout",
     "output_type": "stream",
     "text": [
      "\n",
      "- Running time:  52.733251094818115\n"
     ]
    }
   ],
   "source": [
    "import time\n",
    "start_time = time.time()\n",
    "\n",
    "for i in range(1000000):\n",
    "    horizontal_diffusion(in_storage, out_storage, coeff_storage, origin=origin)\n",
    "\n",
    "print(\"\\n- Running time: \", time.time() - start_time )\n",
    "\n",
    "#backend='gt:gpu' - Running time:    51.94952321052551\n",
    "#backend=\"gt:cpu_ifirst\" - Running time:  62.49137759208679\n",
    "#backend=\"gt:cpu_kfirst\" - Running time: 73.71631145477295\n",
    "#backend='numpy'  - Running time:  2124.6681759357452"
   ]
  },
  {
   "cell_type": "markdown",
   "metadata": {},
   "source": [
    "### Timings\n",
    "|backend |  Runtime on gpubox |\n",
    "| :-  |  -: |\n",
    "| gt:gpu | 51.95 |\n",
    "| gt:cpu_ifirst | 62.49 |\n",
    "| gt:cpu_kfirst | 73.72 |\n",
    "|  numpy | 2124.67 |"
   ]
  },
  {
   "cell_type": "markdown",
   "metadata": {},
   "source": [
    "### Plot results"
   ]
  },
  {
   "cell_type": "code",
   "execution_count": 8,
   "metadata": {},
   "outputs": [],
   "source": [
    "#projection = np.asarray(np.sum(out_storage, axis=2))\n",
    "#plt.imshow(projection)"
   ]
  },
  {
   "cell_type": "code",
   "execution_count": null,
   "metadata": {},
   "outputs": [],
   "source": []
  }
 ],
 "metadata": {
  "kernelspec": {
   "display_name": "Python 3 (ipykernel)",
   "language": "python",
   "name": "python3"
  },
  "language_info": {
   "codemirror_mode": {
    "name": "ipython",
    "version": 3
   },
   "file_extension": ".py",
   "mimetype": "text/x-python",
   "name": "python",
   "nbconvert_exporter": "python",
   "pygments_lexer": "ipython3",
   "version": "3.8.13"
  }
 },
 "nbformat": 4,
 "nbformat_minor": 4
}
